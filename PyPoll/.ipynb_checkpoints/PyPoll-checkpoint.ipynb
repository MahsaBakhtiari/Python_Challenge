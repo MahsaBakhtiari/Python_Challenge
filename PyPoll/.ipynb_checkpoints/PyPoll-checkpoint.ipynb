{
 "cells": [
  {
   "cell_type": "code",
   "execution_count": 24,
   "id": "c99c2981",
   "metadata": {},
   "outputs": [
    {
     "name": "stdout",
     "output_type": "stream",
     "text": [
      "Election Results\n",
      "------------------------------------------------\n",
      "Total Votes: 369711\n",
      "------------------------------------------------\n",
      "Charles Casper Stockham: 23.049% (85213)\n",
      "Diana DeGette: 73.812% (272892)\n",
      "Raymon Anthony Doane: 3.139% (11606)\n",
      "------------------------------------------------\n",
      "Winner: Diana DeGette\n",
      "------------------------------------------------\n"
     ]
    }
   ],
   "source": [
    "import os\n",
    "import csv\n",
    "\n",
    "\n",
    "def file_reader(file_address):\n",
    "    \"\"\"\"Loads the file and returns file content.\"\"\"\n",
    "    data = []\n",
    "    with open(file_address, encoding=\"UTF-8\") as file:\n",
    "        reader = csv.reader(file, delimiter= \",\")\n",
    "        header = next(file, None)\n",
    "        data = [row[2] for row in reader]\n",
    "    return data\n",
    "\n",
    "address= os.path.join(\".\", \"resources\", \"election_data.csv\")\n",
    "data_list = file_reader(address)\n",
    "\n",
    "# Introduce a dictionary of candidates and their total vote.\n",
    "data_dict = {}\n",
    "for candid in data_list:\n",
    "    if candid in data_dict.keys():\n",
    "        data_dict[candid] += 1\n",
    "    else:\n",
    "        data_dict[candid] = 1\n",
    "\n",
    "candid_list = data_dict.keys()\n",
    "total = len(data)\n",
    "data_percentage = {}        \n",
    "for candid in data_dict.keys():\n",
    "    data_percentage[candid] = (data_dict[candid]/total)*100\n",
    "\n",
    "# Turn itteratable but not subscriptable output of .keya() to a list.\n",
    "# Use one member of that list as defualt to find the winner.\n",
    "keys = list(data_dict.keys())\n",
    "winner = keys[0]\n",
    "for candid in data_dict.keys():\n",
    "    if data_dict[candid] > data_dict[winner]:\n",
    "        winner = candid\n",
    "\n",
    "print(\"Election Results\")\n",
    "print(\"------------------------------------------------\")\n",
    "print(f\"Total Votes: {total}\")\n",
    "print(\"------------------------------------------------\")\n",
    "for candid in data_dict.keys():\n",
    "    print(f\"{candid}: {data_percentage[candid]:.3f}% ({data_dict[candid]})\")\n",
    "print(\"------------------------------------------------\")\n",
    "print(f\"Winner: {winner}\")\n",
    "print(\"------------------------------------------------\")\n",
    "\n",
    "with open(\"PyPoll.txt\", \"a\") as f:\n",
    "    f.write(\"Election Results \\n\")\n",
    "    f.write(\"------------------------------------------------ \\n\")\n",
    "    f.write(f\"Total Votes: {total}\\n\")\n",
    "    f.write(\"------------------------------------------------\\n\")\n",
    "    for candid in data_dict.keys():\n",
    "        f.write(f\"{candid}: {data_percentage[candid]:.3f}% ({data_dict[candid]})\\n\")\n",
    "    f.write(\"------------------------------------------------\\n\")\n",
    "    f.write(f\"Winner: {winner}\")\n"
   ]
  },
  {
   "cell_type": "code",
   "execution_count": null,
   "id": "88653299",
   "metadata": {},
   "outputs": [],
   "source": []
  },
  {
   "cell_type": "code",
   "execution_count": null,
   "id": "e50aa40d",
   "metadata": {},
   "outputs": [],
   "source": []
  }
 ],
 "metadata": {
  "kernelspec": {
   "display_name": "Python 3 (ipykernel)",
   "language": "python",
   "name": "python3"
  },
  "language_info": {
   "codemirror_mode": {
    "name": "ipython",
    "version": 3
   },
   "file_extension": ".py",
   "mimetype": "text/x-python",
   "name": "python",
   "nbconvert_exporter": "python",
   "pygments_lexer": "ipython3",
   "version": "3.9.13"
  }
 },
 "nbformat": 4,
 "nbformat_minor": 5
}
