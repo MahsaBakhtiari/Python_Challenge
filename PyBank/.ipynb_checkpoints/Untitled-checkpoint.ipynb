{
 "cells": [
  {
   "cell_type": "code",
   "execution_count": 39,
   "id": "b247745e",
   "metadata": {},
   "outputs": [
    {
     "name": "stdout",
     "output_type": "stream",
     "text": [
      "Financial Analysis \n",
      "---------------------------------------------------\n",
      "Total Months: 86 \n",
      "Total: $22564198.0\n",
      "Average Change: $-8311.105882352942\n",
      "Greatest Increase in Profits: Aug-16 $1862002.0\n",
      "Greatest Decrease in Profits: Feb-17 $-224669.0\n"
     ]
    }
   ],
   "source": [
    "import os\n",
    "import csv\n",
    "import statistics\n",
    "\n",
    "\n",
    "def read_file(file_address):\n",
    "    \"\"\"Loads the file and return a header and file content.\"\"\"\n",
    "    file_list = []\n",
    "    file_header = []\n",
    "    with open(address, encoding=\"UTF-8\") as file:\n",
    "        reader = csv.reader(file, delimiter=\",\")\n",
    "        # Read the first row and keep it as file header.\n",
    "        file_header = next(reader, None)\n",
    "        for row in reader:\n",
    "            # Append a tuple (month, profit/loss).\n",
    "            file_list.append((row[0], float(row[1])))\n",
    "    return (file_header, file_list)\n",
    "\n",
    "address = os.path.join(\".\", \"Resources\", \"budget_data.csv\")\n",
    "result = read_file(address)\n",
    "\n",
    "# Introduce pre_value as the last month's profit/loss. \n",
    "pre_value = result[1][0][1]\n",
    "monthly_changes = []                            \n",
    "\n",
    "# Start from the second month and compute the monthly changes.\n",
    "for value in result[1][1:]:\n",
    "    monthly_changes.append((value[0],(value[1] - pre_value)))\n",
    "    pre_value = value[1]\n",
    "                                \n",
    "month_count = len(result[1])\n",
    "total = sum([pair[1] for pair in result[1]])\n",
    "monthly_changes_value = [pair[1] for pair in monthly_changes]\n",
    "average_change = statistics.mean(monthly_changes_value)\n",
    "\n",
    "# Finding the maximum ans minimum changes starting \n",
    "# from really big positive and negative numbers.\n",
    "greatest_increase = (\"a\", -1e9)\n",
    "greatest_decrease = (\"b\", 1e9)                            \n",
    "for change in monthly_changes:\n",
    "    if change[1] > greatest_increase[1]:\n",
    "        greatest_increase = change\n",
    "    if change[1] < greatest_increase[1]:\n",
    "        greatest_decrease = change\n",
    "\n",
    "print(f\"Financial Analysis \\n---------------------------------------------------\")\n",
    "print(f\"Total Months: {month_count} \\nTotal: ${total}\")\n",
    "print(f\"Average Change: ${average_change}\")\n",
    "print(f\"Greatest Increase in Profits: {greatest_increase[0]} ${greatest_increase[1]}\")\n",
    "print(f\"Greatest Decrease in Profits: {greatest_decrease[0]} ${greatest_decrease[1]}\")\n",
    "\n",
    "with open(PyBank.txt, \"a\") as f:\n",
    "    f.write(\"Financial Analysis\")\n",
    "    f.write(\"---------------------------------------------------\")\n",
    "    f.write(\"Total Months: 86\")\n",
    "    f.write(\"Total: $22564198.0\")\n",
    "    f.write(\"Average Change: $-8311.105882352942\")\n",
    "    f.write(\"Greatest Increase in Profits: Aug-16 $1862002.0\")\n",
    "    f.write(\"Greatest Decrease in Profits: Feb-17 $-224669.0\")\n",
    "    "
   ]
  },
  {
   "cell_type": "code",
   "execution_count": null,
   "id": "af7ab3e6",
   "metadata": {},
   "outputs": [],
   "source": []
  },
  {
   "cell_type": "code",
   "execution_count": null,
   "id": "04ef4a78",
   "metadata": {},
   "outputs": [],
   "source": []
  }
 ],
 "metadata": {
  "kernelspec": {
   "display_name": "Python 3 (ipykernel)",
   "language": "python",
   "name": "python3"
  },
  "language_info": {
   "codemirror_mode": {
    "name": "ipython",
    "version": 3
   },
   "file_extension": ".py",
   "mimetype": "text/x-python",
   "name": "python",
   "nbconvert_exporter": "python",
   "pygments_lexer": "ipython3",
   "version": "3.9.13"
  }
 },
 "nbformat": 4,
 "nbformat_minor": 5
}
